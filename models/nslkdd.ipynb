{
 "cells": [
  {
   "cell_type": "code",
   "execution_count": null,
   "metadata": {
    "id": "Wq9yVcJK8scz"
   },
   "outputs": [],
   "source": [
    "import torch\n",
    "import torch.nn as nn\n",
    "import torch.nn.functional as F\n",
    "import pandas as pd\n",
    "import numpy as np\n",
    "from sklearn.model_selection import train_test_split\n",
    "from sklearn.feature_selection import SelectKBest, chi2, r_regression\n",
    "from torch.utils.data import DataLoader, Dataset, TensorDataset, WeightedRandomSampler\n",
    "from sklearn.metrics import RocCurveDisplay, f1_score, PrecisionRecallDisplay\n",
    "import matplotlib.pyplot as plt\n",
    "import plotly.graph_objects as go"
   ]
  },
  {
   "cell_type": "code",
   "execution_count": null,
   "metadata": {
    "colab": {
     "base_uri": "https://localhost:8080/"
    },
    "id": "y6Jhyd-Z8wdK",
    "outputId": "7cd3e2bb-62bf-43cd-c7f6-f7f1b3d8abcc"
   },
   "outputs": [],
   "source": [
    "# Dataset can be found here: https://www.kaggle.com/datasets/hassan06/nslkdd\n",
    "\n",
    "feature=[\"duration\",\"protocol_type\",\"service\",\"flag\",\"src_bytes\",\"dst_bytes\",\"land\",\"wrong_fragment\",\"urgent\",\"hot\",\"num_failed_logins\",\"logged_in\",\"num_compromised\",\"root_shell\",\"su_attempted\",\"num_root\",\"num_file_creations\",\"num_shells\",\"num_access_files\",\"num_outbound_cmds\",\"is_host_login\",\"is_guest_login\",\"count\",\"srv_count\",\"serror_rate\",\"srv_serror_rate\",\"rerror_rate\",\"srv_rerror_rate\",\"same_srv_rate\",\"diff_srv_rate\",\"srv_diff_host_rate\",\"dst_host_count\",\"dst_host_srv_count\",\"dst_host_same_srv_rate\",\"dst_host_diff_srv_rate\",\"dst_host_same_src_port_rate\",\"dst_host_srv_diff_host_rate\",\"dst_host_serror_rate\",\"dst_host_srv_serror_rate\",\"dst_host_rerror_rate\",\"dst_host_srv_rerror_rate\",\"target\", \"difficulty\"]\n",
    "df1 = pd.read_csv('<filepath>/datasets/KDDTest+.txt', names=feature)\n",
    "df2 = pd.read_csv('<filepath>/datasets/KDDTrain+.txt', names=feature)\n",
    "\n",
    "df = pd.concat([df1, df2])\n",
    "df.shape"
   ]
  },
  {
   "cell_type": "code",
   "execution_count": null,
   "metadata": {
    "id": "fTiBavHj9y4E"
   },
   "outputs": [],
   "source": [
    "# Drop completely homogenous columns\n",
    "\n",
    "df.drop([col for col in df.select_dtypes(include=[np.number]) if df[col].max()-df[col].min() == 0], axis=1, inplace=True)"
   ]
  },
  {
   "cell_type": "code",
   "execution_count": null,
   "metadata": {
    "id": "YS6-WzME_jjV"
   },
   "outputs": [],
   "source": [
    "# Drop target classes with less than 100 samples\n",
    "\n",
    "targets_to_drop = [val for val in df['target'].unique() if len(df[df['target'] == val]) < 100]\n",
    "df.drop(df.index[df['target'].isin(targets_to_drop)], inplace=True)\n",
    "\n",
    "df[['target']].value_counts()"
   ]
  },
  {
   "cell_type": "code",
   "execution_count": null,
   "metadata": {
    "id": "LLdC9V4U-k5o"
   },
   "outputs": [],
   "source": [
    "# Normalization\n",
    "df_nums = df.select_dtypes(include=[np.number])\n",
    "df_nums = (df_nums-df_nums.min())/(df_nums.max()-df_nums.min())\n",
    "\n",
    "for col in df_nums.columns:\n",
    "    df[col] = df_nums[col]\n",
    "\n",
    "df.dropna(axis=0, inplace=True)\n",
    "for c in df.columns:\n",
    "    print(c + \" :\", df[c].isna().sum())"
   ]
  },
  {
   "cell_type": "code",
   "execution_count": null,
   "metadata": {
    "id": "RDqlP6HV-5yA"
   },
   "outputs": [],
   "source": [
    "df[['target']].value_counts()"
   ]
  },
  {
   "cell_type": "code",
   "execution_count": null,
   "metadata": {
    "id": "Rc8UDnac9tMs"
   },
   "outputs": [],
   "source": [
    "# 1 denotes OOD, 0 denotes ID\n",
    "\n",
    "ood_cats = [\"httptunnel\", \"snmpgetattack\", \"apache2\"]\n",
    "def mark_ood(row):\n",
    "    if row['target'] in ood_cats: row['ood'] = 1\n",
    "    else: row['ood'] = 0\n",
    "    return row\n",
    "\n",
    "df = df.apply(mark_ood, axis=1)"
   ]
  },
  {
   "cell_type": "code",
   "execution_count": null,
   "metadata": {
    "colab": {
     "base_uri": "https://localhost:8080/"
    },
    "id": "N9LQVb3mB5Z3",
    "outputId": "87f6131e-4baf-4560-faf9-0390de98d477"
   },
   "outputs": [],
   "source": [
    "# Split dataset into train, test, OOD\n",
    "\n",
    "df_temp_X = df.drop(['target'], axis=1)\n",
    "df_temp_y = df[['target', 'ood']]\n",
    "df_temp_X = pd.get_dummies(df_temp_X)\n",
    "\n",
    "X = df_temp_X[df_temp_X['ood'] == 0]\n",
    "X.drop(['ood'], inplace=True, axis=1)\n",
    "\n",
    "y = df_temp_y[df_temp_y['ood'] == 0]\n",
    "y.drop(['ood'], inplace=True, axis=1)\n",
    "y = pd.get_dummies(y)\n",
    "\n",
    "X_ood = df_temp_X[df_temp_X['ood'] == 1]\n",
    "X_ood.drop(['ood'], inplace=True, axis=1)\n",
    "ood_len = len(X_ood)\n",
    "\n",
    "X_train, X_test, y_train, y_test = train_test_split(X.values, y.values, test_size=0.2)\n",
    "\n",
    "X_train = torch.FloatTensor(X_train)\n",
    "X_test = torch.FloatTensor(X_test)\n",
    "y_train = torch.FloatTensor(y_train)\n",
    "y_test = torch.FloatTensor(y_test)\n",
    "X_ood = torch.FloatTensor(np.concatenate((X_test, X_ood.values), axis=0))\n",
    "y_ood = torch.FloatTensor([1 for j in range(len(X_test))] + [0 for i in range(ood_len)]) # 1 == ID, 0 == OOD\n",
    "\n",
    "weightlist = [1 / y[col].sum() for col in y.columns]\n",
    "samp = WeightedRandomSampler(weights=[weightlist[cat.argmax()] for cat in y_train], num_samples=len(y_train), replacement=True)\n",
    "\n",
    "train = TensorDataset(X_train, y_train)\n",
    "train_loader = DataLoader(train, batch_size=512, sampler=samp)\n",
    "\n",
    "test = TensorDataset(X_test, y_test)\n",
    "test_loader = DataLoader(test, batch_size=512)\n",
    "\n",
    "ood = TensorDataset(X_ood, y_ood)\n",
    "ood_loader = DataLoader(ood, batch_size=512)"
   ]
  },
  {
   "cell_type": "code",
   "execution_count": null,
   "metadata": {
    "colab": {
     "base_uri": "https://localhost:8080/"
    },
    "id": "yGdlWYiNCLKP",
    "outputId": "92e69584-b9b1-42d1-bc13-163c419f8207"
   },
   "outputs": [],
   "source": [
    "for x, y in train_loader:\n",
    "    print(x.shape)\n",
    "    print(y.shape)\n",
    "    break"
   ]
  },
  {
   "cell_type": "code",
   "execution_count": null,
   "metadata": {
    "colab": {
     "base_uri": "https://localhost:8080/"
    },
    "id": "M5t0aKbvCR9O",
    "outputId": "ca91775b-6c68-4477-ac78-b6307c71f1d4"
   },
   "outputs": [],
   "source": [
    "# Verify the distribution of classes are uniform\n",
    "\n",
    "from collections import defaultdict\n",
    "store = defaultdict(int)\n",
    "for x, y in train_loader:\n",
    "    for val in y:\n",
    "        store[int(val.argmax(0))] += 1\n",
    "    break\n",
    "for key in store:\n",
    "    print(key, store[key])"
   ]
  },
  {
   "cell_type": "code",
   "execution_count": null,
   "metadata": {
    "colab": {
     "base_uri": "https://localhost:8080/"
    },
    "id": "2VWmRpdgCnHi",
    "outputId": "4a3676a7-2b52-4743-c1f6-f1034a5856ed"
   },
   "outputs": [],
   "source": [
    "# Neural network\n",
    "\n",
    "class ANN(nn.Module):\n",
    "    def __init__(self):\n",
    "        super().__init__()\n",
    "        self.fc1 = nn.Linear(in_features=122, out_features=128)\n",
    "        self.norm = nn.BatchNorm1d(128)\n",
    "        self.fc2 = nn.Linear(in_features=128, out_features=128)\n",
    "        self.norm2 = nn.BatchNorm1d(128)\n",
    "        self.output = nn.Linear(in_features=128, out_features=18)\n",
    "        #self.output2 = nn.Softmax(dim=1)\n",
    "\n",
    "    def forward(self, x):\n",
    "        x = F.relu(self.fc1(x))\n",
    "        x = self.norm(x)\n",
    "        x = F.relu(self.fc2(x))\n",
    "        x = self.norm2(x)\n",
    "        #x = self.norm4(x)\n",
    "        x = self.output(x)\n",
    "        #x = self.output2(x)\n",
    "        return x\n",
    "\n",
    "model = ANN()\n",
    "model"
   ]
  },
  {
   "cell_type": "code",
   "execution_count": null,
   "metadata": {
    "id": "LJhA6lO1Cp5D"
   },
   "outputs": [],
   "source": [
    "criterion = nn.CrossEntropyLoss()\n",
    "optimizer = torch.optim.Adam(model.parameters(), lr=0.0001)"
   ]
  },
  {
   "cell_type": "code",
   "execution_count": null,
   "metadata": {
    "colab": {
     "base_uri": "https://localhost:8080/",
     "height": 265
    },
    "id": "gnKuVqlCCrkV",
    "outputId": "8d97ef4b-cf0e-449a-c913-3a13bc17a7ca"
   },
   "outputs": [],
   "source": [
    "# Training phase\n",
    "\n",
    "epochs = 30\n",
    "lossarr = []\n",
    "size = len(test_loader.dataset)\n",
    "num_batches = len(test_loader)\n",
    "testloss = []\n",
    "for i in range(epochs):\n",
    "    model.train()\n",
    "    for batch, (x, y) in enumerate(train_loader):\n",
    "        y_hat = model.forward(x)\n",
    "        loss = criterion(y_hat, y)\n",
    "        optimizer.zero_grad()\n",
    "        loss.backward()\n",
    "        optimizer.step()\n",
    "    lossarr.append(loss.item())\n",
    "    \n",
    "    model.eval()\n",
    "    test_loss, correct = 0, 0\n",
    "    preds = []\n",
    "    with torch.no_grad():\n",
    "        for X, y in test_loader:\n",
    "            pred = model(X)\n",
    "            preds.extend(pred)\n",
    "            test_loss += criterion(pred, y).item()\n",
    "            correct += (pred.argmax(1) == y.argmax(1)).type(torch.float).sum().item()\n",
    "    testloss.append(test_loss/num_batches)\n",
    "\n",
    "plt.plot(list(range(epochs)), lossarr, label=\"training loss\")\n",
    "plt.plot(list(range(epochs)), testloss, label=\"test loss\")\n",
    "plt.legend()\n",
    "plt.show()"
   ]
  },
  {
   "cell_type": "code",
   "execution_count": null,
   "metadata": {
    "colab": {
     "base_uri": "https://localhost:8080/"
    },
    "id": "jlFc4YiJCtgm",
    "outputId": "db4a8c8c-9cb4-4226-f123-32116b356f1f"
   },
   "outputs": [],
   "source": [
    "# Testing phase\n",
    "\n",
    "size = len(test_loader.dataset)\n",
    "num_batches = len(test_loader)\n",
    "model.eval()\n",
    "test_loss, correct = 0, 0\n",
    "preds = []\n",
    "with torch.no_grad():\n",
    "    for X, y in test_loader:\n",
    "        pred = model(X)\n",
    "        preds.extend(pred)\n",
    "        test_loss += criterion(pred, y).item()\n",
    "        correct += (pred.argmax(1) == y.argmax(1)).type(torch.float).sum().item()\n",
    "test_loss /= num_batches\n",
    "correct /= size\n",
    "print(f\"Test Error: \\n Accuracy: {(100*correct):>0.1f}%, Avg loss: {test_loss:>8f} \\n\")"
   ]
  },
  {
   "cell_type": "code",
   "execution_count": null,
   "metadata": {
    "id": "yiAquhZMDGhN"
   },
   "outputs": [],
   "source": [
    "from collections import defaultdict\n",
    "store = defaultdict(int)\n",
    "for x, y in test_loader:\n",
    "    for val in y:\n",
    "        store[int(val.argmax(0))] += 1\n",
    "for key in store:\n",
    "    print(key, store[key])"
   ]
  },
  {
   "cell_type": "code",
   "execution_count": null,
   "metadata": {
    "colab": {
     "base_uri": "https://localhost:8080/",
     "height": 982
    },
    "id": "WbF2-mcUDJl8",
    "outputId": "5f20df0f-d334-4d44-bc4b-342486b69455"
   },
   "outputs": [],
   "source": [
    "# Plot the ROC curve\n",
    "\n",
    "plt.figure(figsize=(11,11))\n",
    "ax = plt.gca()\n",
    "sm = nn.Softmax(dim=0)\n",
    "for atk in range(18):\n",
    "    labels = [int(val[atk]) for X, y in test_loader for val in y]\n",
    "    probs = [float(sm(tensor)[atk]) for tensor in preds]\n",
    "    RocCurveDisplay.from_predictions(labels, probs, name=f\"Class: {atk}\",ax=ax)\n",
    "    print(f\"F1 score for Class {atk} :\", f1_score(labels, [int(int(tensor.argmax(0)) == atk) for tensor in preds]))\n",
    "plt.show()"
   ]
  },
  {
   "cell_type": "code",
   "execution_count": null,
   "metadata": {
    "colab": {
     "base_uri": "https://localhost:8080/",
     "height": 660
    },
    "id": "fGhpEXrZWmHj",
    "outputId": "833d8523-a9d0-4816-a3e9-313b51ee778c"
   },
   "outputs": [],
   "source": [
    "# ROC for OOD evaluation. Positive class is ID\n",
    "\n",
    "model.eval()\n",
    "preds = []\n",
    "sm = nn.Softmax(dim=0)\n",
    "labels = []\n",
    "with torch.no_grad():\n",
    "    for X, y in ood_loader:\n",
    "        pred = model(X)\n",
    "        preds.extend(pred)\n",
    "        labels.extend(y)\n",
    "\n",
    "plt.figure(2, figsize=(11,11))\n",
    "ax = plt.gca()\n",
    "msp = [float(max(sm(tensor))) for tensor in preds]\n",
    "RocCurveDisplay.from_predictions(labels, msp, ax=ax)\n",
    "plt.show(2)"
   ]
  },
  {
   "cell_type": "code",
   "execution_count": null,
   "metadata": {
    "colab": {
     "base_uri": "https://localhost:8080/",
     "height": 660
    },
    "id": "VATbf6YsYbRR",
    "outputId": "753a1a3d-3a5d-4807-9366-1440801e4b1f"
   },
   "outputs": [],
   "source": [
    "# ROC for OOD evaluation. Positive class is OOD\n",
    "\n",
    "model.eval()\n",
    "preds = []\n",
    "sm = nn.Softmax(dim=0)\n",
    "labels = []\n",
    "with torch.no_grad():\n",
    "    for X, y in ood_loader:\n",
    "        pred = model(X)\n",
    "        preds.extend(pred)\n",
    "        labels.extend(y)\n",
    "\n",
    "plt.figure(3, figsize=(11,11))\n",
    "ax = plt.gca()\n",
    "msp = [-float(max(sm(tensor))) for tensor in preds]\n",
    "RocCurveDisplay.from_predictions([0 if i == 1 else 1 for i in labels], msp, ax=ax)\n",
    "plt.show(3)"
   ]
  },
  {
   "cell_type": "code",
   "execution_count": null,
   "metadata": {
    "colab": {
     "base_uri": "https://localhost:8080/",
     "height": 660
    },
    "id": "gU9bbHIleJG5",
    "outputId": "c58cf41b-6840-4277-e5cc-3866926e44d3"
   },
   "outputs": [],
   "source": [
    "# PR for OOD evaluation. Positive class is ID\n",
    "\n",
    "model.eval()\n",
    "preds = []\n",
    "sm = nn.Softmax(dim=0)\n",
    "labels = []\n",
    "with torch.no_grad():\n",
    "    for X, y in ood_loader:\n",
    "        pred = model(X)\n",
    "        preds.extend(pred)\n",
    "        labels.extend(y)\n",
    "\n",
    "plt.figure(4, figsize=(11,11))\n",
    "ax = plt.gca()\n",
    "msp = [float(max(sm(tensor))) for tensor in preds]\n",
    "PrecisionRecallDisplay.from_predictions(labels, msp, ax=ax)\n",
    "plt.show(4)"
   ]
  },
  {
   "cell_type": "code",
   "execution_count": null,
   "metadata": {
    "colab": {
     "base_uri": "https://localhost:8080/",
     "height": 660
    },
    "id": "RHQBPHZTeRsU",
    "outputId": "af9a6e8c-0e95-43ce-bd40-b1f1dd9487b0"
   },
   "outputs": [],
   "source": [
    "# PR for OOD evaluation. Positive class is OOD\n",
    "\n",
    "model.eval()\n",
    "preds = []\n",
    "sm = nn.Softmax(dim=0)\n",
    "labels = []\n",
    "with torch.no_grad():\n",
    "    for X, y in ood_loader:\n",
    "        pred = model(X)\n",
    "        preds.extend(pred)\n",
    "        labels.extend(y)\n",
    "\n",
    "plt.figure(3, figsize=(11,11))\n",
    "ax = plt.gca()\n",
    "msp = [-float(max(sm(tensor))) for tensor in preds]\n",
    "PrecisionRecallDisplay.from_predictions([0 if i == 1 else 1 for i in labels], msp, ax=ax)\n",
    "plt.show(3)"
   ]
  }
 ],
 "metadata": {
  "colab": {
   "provenance": []
  },
  "kernelspec": {
   "display_name": "Python 3 (ipykernel)",
   "language": "python",
   "name": "python3"
  },
  "language_info": {
   "codemirror_mode": {
    "name": "ipython",
    "version": 3
   },
   "file_extension": ".py",
   "mimetype": "text/x-python",
   "name": "python",
   "nbconvert_exporter": "python",
   "pygments_lexer": "ipython3",
   "version": "3.9.7"
  }
 },
 "nbformat": 4,
 "nbformat_minor": 1
}
