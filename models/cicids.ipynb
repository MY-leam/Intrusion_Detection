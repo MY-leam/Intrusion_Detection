{
 "cells": [
  {
   "cell_type": "code",
   "execution_count": null,
   "metadata": {
    "id": "1IPY94QQmyMd"
   },
   "outputs": [],
   "source": [
    "import torch\n",
    "import torch.nn as nn\n",
    "import torch.nn.functional as F\n",
    "import pandas as pd\n",
    "import numpy as np\n",
    "from sklearn.model_selection import train_test_split\n",
    "from sklearn.feature_selection import SelectKBest, chi2, r_regression\n",
    "from torch.utils.data import DataLoader, Dataset, TensorDataset, WeightedRandomSampler\n",
    "from sklearn.metrics import RocCurveDisplay, f1_score, PrecisionRecallDisplay\n",
    "import matplotlib.pyplot as plt\n",
    "import plotly.graph_objects as go"
   ]
  },
  {
   "cell_type": "code",
   "execution_count": null,
   "metadata": {
    "colab": {
     "base_uri": "https://localhost:8080/"
    },
    "id": "y1AI0mLTm1-M",
    "outputId": "62d81c8d-bcff-4e82-d8f3-8f8960a79dc3"
   },
   "outputs": [],
   "source": [
    "# There are eight datasets in total. They can be found here: https://www.kaggle.com/datasets/cicdataset/cicids2017\n",
    "\n",
    "df1=pd.read_csv(\"\")\n",
    "df2=pd.read_csv(\"\")\n",
    "df3=pd.read_csv(\"\")\n",
    "df4=pd.read_csv(\"\")\n",
    "df5=pd.read_csv(\"\")\n",
    "df6=pd.read_csv(\"\")\n",
    "df7=pd.read_csv(\"\")\n",
    "df8=pd.read_csv(\"\")\n",
    "\n",
    "\n",
    "df = pd.concat([df1,df2, df3, df4, df5, df6, df7, df8])\n",
    "del df1\n",
    "del df2\n",
    "del df3\n",
    "del df4\n",
    "del df5\n",
    "del df6\n",
    "del df7\n",
    "del df8\n",
    "\n",
    "print(df.shape)"
   ]
  },
  {
   "cell_type": "code",
   "execution_count": null,
   "metadata": {
    "id": "-MBkueKPk5Rg"
   },
   "outputs": [],
   "source": [
    "# Drop columns that are completely homogenous\n",
    "\n",
    "df_nums = df.select_dtypes(include=[np.number])\n",
    "df.drop([col for col in df_nums.columns if df_nums[col].max()-df_nums[col].min() == 0], axis=1, inplace=True)"
   ]
  },
  {
   "cell_type": "code",
   "execution_count": null,
   "metadata": {
    "id": "zRUUdc_GceE1"
   },
   "outputs": [],
   "source": [
    "# Drop NA rows\n",
    "\n",
    "df.dropna(axis=0, inplace=True)"
   ]
  },
  {
   "cell_type": "code",
   "execution_count": null,
   "metadata": {
    "id": "NEEQCaK6qS4H"
   },
   "outputs": [],
   "source": [
    "# Normalization\n",
    "df_nums = df.select_dtypes(include=[np.number])\n",
    "df_nums = (df_nums-df_nums.min())/(df_nums.max()-df_nums.min())\n",
    "\n",
    "for col in df_nums.columns:\n",
    "    df[col] = df_nums[col]\n",
    "\n",
    "df.dropna(axis=0, inplace=True)\n",
    "for c in df.columns:\n",
    "    print(c + \" :\", df[c].isna().sum())"
   ]
  },
  {
   "cell_type": "code",
   "execution_count": null,
   "metadata": {
    "id": "wdM1A1X0rYwx"
   },
   "outputs": [],
   "source": [
    "df[[' Label']].value_counts()"
   ]
  },
  {
   "cell_type": "code",
   "execution_count": null,
   "metadata": {
    "id": "i2Ivf3O-rdUh"
   },
   "outputs": [],
   "source": [
    "# Drop classes with too little samples\n",
    "\n",
    "df.drop(df[df[' Label'] == \"Web Attack � Sql Injection\"].index, inplace=True)\n",
    "df.drop(df[df[' Label'] == \"Heartbleed\"].index, inplace=True)\n",
    "df.drop(df[df[' Label'] == \"Infiltration\"].index, inplace=True)"
   ]
  },
  {
   "cell_type": "code",
   "execution_count": null,
   "metadata": {
    "id": "ucCWZRWvhNGL"
   },
   "outputs": [],
   "source": [
    "# 1 denotes OOD, 0 denotes ID\n",
    "\n",
    "ood_cats = [\"Web Attack � Brute Force\", \"Web Attack � XSS\"]\n",
    "def mark_ood(row):\n",
    "    if row[' Label'] in ood_cats: row['ood'] = 1\n",
    "    else: row['ood'] = 0\n",
    "    return row\n",
    "\n",
    "df = df.apply(mark_ood, axis=1)"
   ]
  },
  {
   "cell_type": "code",
   "execution_count": null,
   "metadata": {
    "colab": {
     "base_uri": "https://localhost:8080/"
    },
    "id": "Oou1hnmNzrr9",
    "outputId": "29137f5f-217f-4365-b4e8-931374bde7ad"
   },
   "outputs": [],
   "source": [
    "# Split the dataset into train, test, OOD\n",
    "\n",
    "df_temp_X = df.drop([' Label'], axis=1)\n",
    "df_temp_y = df[[' Label', 'ood']]\n",
    "df_temp_X = pd.get_dummies(df_temp_X)\n",
    "\n",
    "X = df_temp_X[df_temp_X['ood'] == 0]\n",
    "X.drop(['ood'], inplace=True, axis=1)\n",
    "\n",
    "y = df_temp_y[df_temp_y['ood'] == 0]\n",
    "y.drop(['ood'], inplace=True, axis=1)\n",
    "y = pd.get_dummies(y)\n",
    "\n",
    "X_ood = df_temp_X[df_temp_X['ood'] == 1]\n",
    "X_ood.drop(['ood'], inplace=True, axis=1)\n",
    "ood_len = len(X_ood)\n",
    "\n",
    "X_train, X_test, y_train, y_test = train_test_split(X.values, y.values, test_size=0.2)\n",
    "\n",
    "X_train = torch.FloatTensor(X_train)\n",
    "X_test = torch.FloatTensor(X_test)\n",
    "y_train = torch.FloatTensor(y_train)\n",
    "y_test = torch.FloatTensor(y_test)\n",
    "X_ood = torch.FloatTensor(np.concatenate((X_test[:150], X_ood.values), axis=0))\n",
    "y_ood = torch.FloatTensor([1 for j in range(len(X_test[:150]))] + [0 for i in range(ood_len)]) # 1 == ID, 0 == OOD\n",
    "\n",
    "weightlist = [1 / y[col].sum() for col in y.columns]\n",
    "samp = WeightedRandomSampler(weights=[weightlist[cat.argmax()] for cat in y_train], num_samples=len(y_train), replacement=True)\n",
    "\n",
    "train = TensorDataset(X_train, y_train)\n",
    "train_loader = DataLoader(train, batch_size=512, sampler=samp)\n",
    "\n",
    "test = TensorDataset(X_test, y_test)\n",
    "test_loader = DataLoader(test, batch_size=512)\n",
    "\n",
    "ood = TensorDataset(X_ood, y_ood)\n",
    "ood_loader = DataLoader(ood, batch_size=512)"
   ]
  },
  {
   "cell_type": "code",
   "execution_count": null,
   "metadata": {
    "colab": {
     "base_uri": "https://localhost:8080/"
    },
    "id": "_ypwahH5ZkvU",
    "outputId": "25cd7a34-e900-4696-8b28-a85391ab0982"
   },
   "outputs": [],
   "source": [
    "# Verify the distribution of attack classes are uniform\n",
    "\n",
    "from collections import defaultdict\n",
    "store = defaultdict(int)\n",
    "for x, y in train_loader:\n",
    "    for val in y:\n",
    "        store[int(val.argmax(0))] += 1\n",
    "    break\n",
    "for key in store:\n",
    "    print(key, store[key])"
   ]
  },
  {
   "cell_type": "code",
   "execution_count": null,
   "metadata": {
    "colab": {
     "base_uri": "https://localhost:8080/"
    },
    "id": "uGG0Nwlasqt5",
    "outputId": "4b5731ef-ca37-49c0-a024-7ca7ad106b0f"
   },
   "outputs": [],
   "source": [
    "for x, y in train_loader:\n",
    "    print(x.shape)\n",
    "    print(y.shape)\n",
    "    break"
   ]
  },
  {
   "cell_type": "code",
   "execution_count": null,
   "metadata": {
    "colab": {
     "base_uri": "https://localhost:8080/"
    },
    "id": "-qy08sV3aTXr",
    "outputId": "ef76d942-9ae4-4fb8-da52-f9aba841d241"
   },
   "outputs": [],
   "source": [
    "# Neural network\n",
    "\n",
    "class ANN(nn.Module):\n",
    "    def __init__(self):\n",
    "        super().__init__()\n",
    "        self.fc1 = nn.Linear(in_features=70, out_features=128)\n",
    "        self.norm = nn.BatchNorm1d(128)\n",
    "        self.fc2 = nn.Linear(in_features=128, out_features=128)\n",
    "        self.norm2 = nn.BatchNorm1d(128)\n",
    "        self.output = nn.Linear(in_features=128, out_features=10)\n",
    "        #self.output2 = nn.Softmax(dim=1)\n",
    "\n",
    "    def forward(self, x):\n",
    "        x = F.relu(self.fc1(x))\n",
    "        x = self.norm(x)\n",
    "        x = F.relu(self.fc2(x))\n",
    "        x = self.norm2(x)\n",
    "        #x = self.norm4(x)\n",
    "        x = self.output(x)\n",
    "        #x = self.output2(x)\n",
    "        return x\n",
    "\n",
    "model = ANN()\n",
    "model"
   ]
  },
  {
   "cell_type": "code",
   "execution_count": null,
   "metadata": {
    "id": "RRF2tBnxakLB"
   },
   "outputs": [],
   "source": [
    "criterion = nn.CrossEntropyLoss()\n",
    "optimizer = torch.optim.Adam(model.parameters(), lr=0.0001)"
   ]
  },
  {
   "cell_type": "code",
   "execution_count": null,
   "metadata": {
    "colab": {
     "base_uri": "https://localhost:8080/",
     "height": 265
    },
    "id": "5GXXWGrtanpK",
    "outputId": "519710d1-b09b-4163-e6c7-60c44ae58130"
   },
   "outputs": [],
   "source": [
    "# Training phase\n",
    "\n",
    "epochs = 30\n",
    "lossarr = []\n",
    "size = len(test_loader.dataset)\n",
    "num_batches = len(test_loader)\n",
    "testloss = []\n",
    "for i in range(epochs):\n",
    "    model.train()\n",
    "    for batch, (x, y) in enumerate(train_loader):\n",
    "        y_hat = model.forward(x)\n",
    "        loss = criterion(y_hat, y)\n",
    "        optimizer.zero_grad()\n",
    "        loss.backward()\n",
    "        optimizer.step()\n",
    "    lossarr.append(loss.item())\n",
    "    \n",
    "    model.eval()\n",
    "    test_loss, correct = 0, 0\n",
    "    preds = []\n",
    "    with torch.no_grad():\n",
    "        for X, y in test_loader:\n",
    "            pred = model(X)\n",
    "            preds.extend(pred)\n",
    "            test_loss += criterion(pred, y).item()\n",
    "            correct += (pred.argmax(1) == y.argmax(1)).type(torch.float).sum().item()\n",
    "    testloss.append(test_loss/num_batches)\n",
    "\n",
    "plt.plot(list(range(epochs)), lossarr, label=\"training loss\")\n",
    "plt.plot(list(range(epochs)), testloss, label=\"test loss\")\n",
    "plt.legend()\n",
    "plt.show()"
   ]
  },
  {
   "cell_type": "code",
   "execution_count": null,
   "metadata": {
    "colab": {
     "base_uri": "https://localhost:8080/"
    },
    "id": "AGahv4LTmCya",
    "outputId": "75770eff-b8cc-481f-947f-3bbc2fa0ca27"
   },
   "outputs": [],
   "source": [
    "# Testing phase\n",
    "\n",
    "size = len(test_loader.dataset)\n",
    "num_batches = len(test_loader)\n",
    "model.eval()\n",
    "test_loss, correct = 0, 0\n",
    "preds = []\n",
    "with torch.no_grad():\n",
    "    for X, y in test_loader:\n",
    "        pred = model(X)\n",
    "        preds.extend(pred)\n",
    "        test_loss += criterion(pred, y).item()\n",
    "        correct += (pred.argmax(1) == y.argmax(1)).type(torch.float).sum().item()\n",
    "test_loss /= num_batches\n",
    "correct /= size\n",
    "print(f\"Test Error: \\n Accuracy: {(100*correct):>0.1f}%, Avg loss: {test_loss:>8f} \\n\")"
   ]
  },
  {
   "cell_type": "code",
   "execution_count": null,
   "metadata": {
    "colab": {
     "base_uri": "https://localhost:8080/"
    },
    "id": "yKZScRQEzXbq",
    "outputId": "29f83b63-af3e-422c-90cc-9d2ce624f800"
   },
   "outputs": [],
   "source": [
    "from collections import defaultdict\n",
    "store = defaultdict(int)\n",
    "for x, y in test_loader:\n",
    "    for val in y:\n",
    "        store[int(val.argmax(0))] += 1\n",
    "for key in store:\n",
    "    print(key, store[key])"
   ]
  },
  {
   "cell_type": "code",
   "execution_count": null,
   "metadata": {
    "colab": {
     "base_uri": "https://localhost:8080/",
     "height": 839
    },
    "id": "ZsjrWlZPy9r6",
    "outputId": "c2935157-670a-450e-fd61-33ccc4808484"
   },
   "outputs": [],
   "source": [
    "# Plot ROC curve\n",
    "\n",
    "plt.figure(figsize=(11,11))\n",
    "ax = plt.gca()\n",
    "sm = nn.Softmax(dim=0)\n",
    "for atk in range(10):\n",
    "    labels = [int(val[atk]) for X, y in test_loader for val in y]\n",
    "    probs = [float(sm(tensor)[atk]) for tensor in preds]\n",
    "    RocCurveDisplay.from_predictions(labels, probs, name=f\"Class: {atk}\",ax=ax)\n",
    "    print(f\"F1 score for Class {atk} :\", f1_score(labels, [int(int(tensor.argmax(0)) == atk) for tensor in preds]))\n",
    "plt.show()"
   ]
  },
  {
   "cell_type": "code",
   "execution_count": null,
   "metadata": {
    "colab": {
     "base_uri": "https://localhost:8080/",
     "height": 660
    },
    "id": "d-v9kWaonYrh",
    "outputId": "e70d3f8c-d859-471c-a670-7bc2bd78ab4d"
   },
   "outputs": [],
   "source": [
    "# ROC for OOD evaluation. Positive class is ID\n",
    "\n",
    "model.eval()\n",
    "preds = []\n",
    "sm = nn.Softmax(dim=0)\n",
    "labels = []\n",
    "with torch.no_grad():\n",
    "    for X, y in ood_loader:\n",
    "        pred = model(X)\n",
    "        preds.extend(pred)\n",
    "        labels.extend(y)\n",
    "\n",
    "plt.figure(2, figsize=(11,11))\n",
    "ax = plt.gca()\n",
    "msp = [float(max(sm(tensor))) for tensor in preds]\n",
    "RocCurveDisplay.from_predictions(labels, msp, ax=ax)\n",
    "plt.show(2)"
   ]
  },
  {
   "cell_type": "code",
   "execution_count": null,
   "metadata": {
    "colab": {
     "base_uri": "https://localhost:8080/",
     "height": 660
    },
    "id": "54faEL1TrrHu",
    "outputId": "c09cac79-cd60-4d5f-80bc-87d7988170fa"
   },
   "outputs": [],
   "source": [
    "# ROC for OOD evaluation. Positive class is OOD\n",
    "\n",
    "model.eval()\n",
    "preds = []\n",
    "sm = nn.Softmax(dim=0)\n",
    "labels = []\n",
    "with torch.no_grad():\n",
    "    for X, y in ood_loader:\n",
    "        pred = model(X)\n",
    "        preds.extend(pred)\n",
    "        labels.extend(y)\n",
    "\n",
    "plt.figure(3, figsize=(11,11))\n",
    "ax = plt.gca()\n",
    "msp = [-float(max(sm(tensor))) for tensor in preds]\n",
    "RocCurveDisplay.from_predictions([0 if i == 1 else 1 for i in labels], msp, ax=ax)\n",
    "plt.show(3)"
   ]
  },
  {
   "cell_type": "code",
   "execution_count": null,
   "metadata": {
    "colab": {
     "base_uri": "https://localhost:8080/",
     "height": 660
    },
    "id": "8N30mP0RrrmU",
    "outputId": "b94a4812-03b6-4821-a40a-4391e836e677"
   },
   "outputs": [],
   "source": [
    "# PR for OOD evaluation. Positive class is ID\n",
    "\n",
    "model.eval()\n",
    "preds = []\n",
    "sm = nn.Softmax(dim=0)\n",
    "labels = []\n",
    "with torch.no_grad():\n",
    "    for X, y in ood_loader:\n",
    "        pred = model(X)\n",
    "        preds.extend(pred)\n",
    "        labels.extend(y)\n",
    "\n",
    "plt.figure(4, figsize=(11,11))\n",
    "ax = plt.gca()\n",
    "msp = [float(max(sm(tensor))) for tensor in preds]\n",
    "PrecisionRecallDisplay.from_predictions(labels, msp, ax=ax)\n",
    "plt.show(4)"
   ]
  },
  {
   "cell_type": "code",
   "execution_count": null,
   "metadata": {
    "colab": {
     "base_uri": "https://localhost:8080/"
    },
    "id": "S2fdHDBDsB4k",
    "outputId": "2c6a413f-aa0b-49ec-e8d4-2e32d9665822"
   },
   "outputs": [],
   "source": [
    "# PR for OOD evaluation. Positive class is OOD\n",
    "\n",
    "model.eval()\n",
    "preds = []\n",
    "sm = nn.Softmax(dim=0)\n",
    "labels = []\n",
    "with torch.no_grad():\n",
    "    for X, y in ood_loader:\n",
    "        pred = model(X)\n",
    "        preds.extend(pred)\n",
    "        labels.extend(y)\n",
    "\n",
    "plt.figure(3, figsize=(11,11))\n",
    "ax = plt.gca()\n",
    "msp = [-float(max(sm(tensor))) for tensor in preds]\n",
    "PrecisionRecallDisplay.from_predictions([0 if i == 1 else 1 for i in labels], msp, ax=ax)\n",
    "plt.show(3)"
   ]
  }
 ],
 "metadata": {
  "colab": {
   "provenance": []
  },
  "kernelspec": {
   "display_name": "Python 3 (ipykernel)",
   "language": "python",
   "name": "python3"
  },
  "language_info": {
   "codemirror_mode": {
    "name": "ipython",
    "version": 3
   },
   "file_extension": ".py",
   "mimetype": "text/x-python",
   "name": "python",
   "nbconvert_exporter": "python",
   "pygments_lexer": "ipython3",
   "version": "3.9.7"
  }
 },
 "nbformat": 4,
 "nbformat_minor": 1
}
