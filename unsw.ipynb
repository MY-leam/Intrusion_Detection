{
 "cells": [
  {
   "cell_type": "code",
   "execution_count": null,
   "metadata": {
    "id": "yV8CcXl3UWeu"
   },
   "outputs": [],
   "source": [
    "import torch\n",
    "import torch.nn as nn\n",
    "import torch.nn.functional as F\n",
    "import pandas as pd\n",
    "import numpy as np\n",
    "from sklearn.model_selection import train_test_split\n",
    "from sklearn.feature_selection import SelectKBest, chi2, r_regression\n",
    "from torch.utils.data import DataLoader, Dataset, TensorDataset, WeightedRandomSampler\n",
    "from sklearn.metrics import RocCurveDisplay, f1_score, PrecisionRecallDisplay, roc_curve, precision_recall_curve\n",
    "import matplotlib.pyplot as plt\n",
    "import plotly.graph_objects as go"
   ]
  },
  {
   "cell_type": "code",
   "execution_count": null,
   "metadata": {
    "id": "5Bfa0XfXUfB4"
   },
   "outputs": [],
   "source": [
    "# Dataset can be found here: https://www.kaggle.com/datasets/mrwellsdavid/unsw-nb15\n",
    "\n",
    "df = pd.read_csv('<filepath of dataset>')\n",
    "df.drop(['id', \"label\"], axis=1, inplace=True)"
   ]
  },
  {
   "cell_type": "code",
   "execution_count": null,
   "metadata": {
    "id": "T12VN6Inkh_a"
   },
   "outputs": [],
   "source": [
    "# Perform normalization\n",
    "\n",
    "df_nums = df.select_dtypes(include=[np.number])\n",
    "df_nums = (df_nums-df_nums.min())/(df_nums.max()-df_nums.min())\n",
    "\n",
    "for col in df_nums.columns:\n",
    "    df[col] = df_nums[col]"
   ]
  },
  {
   "cell_type": "code",
   "execution_count": null,
   "metadata": {
    "colab": {
     "base_uri": "https://localhost:8080/"
    },
    "id": "aMB8pIAaQgLd",
    "outputId": "5c4e4db7-9d3e-4dfa-8f2f-b3aae14eebac",
    "scrolled": true
   },
   "outputs": [],
   "source": [
    "# View number of samples in each of the various attack categories\n",
    "\n",
    "df[['attack_cat']].value_counts()"
   ]
  },
  {
   "cell_type": "code",
   "execution_count": null,
   "metadata": {
    "id": "9Ltl-1DMc7jR"
   },
   "outputs": [],
   "source": [
    "# Choose which attacks will the the out-of-distribution attacks\n",
    "\n",
    "ood_cats = [\"Backdoor\", \"Worms\", \"Shellcode\"]\n",
    "def mark_ood(row):\n",
    "    if row['attack_cat'] in ood_cats: row['ood'] = 1\n",
    "    else: row['ood'] = 0\n",
    "    return row\n",
    "\n",
    "df = df.apply(mark_ood, axis=1)"
   ]
  },
  {
   "cell_type": "code",
   "execution_count": null,
   "metadata": {
    "colab": {
     "base_uri": "https://localhost:8080/"
    },
    "id": "_BiF0bAPis9r",
    "outputId": "5a08f87b-9d28-4393-904a-dd66d8a1451c"
   },
   "outputs": [],
   "source": [
    "# Split the dataset into training, testing, and OOD\n",
    "\n",
    "dfX = df.drop(['attack_cat'], axis=1)\n",
    "dfy = df[['attack_cat', 'ood']]\n",
    "\n",
    "dfX = pd.get_dummies(dfX)\n",
    "\n",
    "df_ood = dfX[dfX['ood'] == 1]\n",
    "df_ood.drop(['ood'], axis=1, inplace=True)\n",
    "\n",
    "X = dfX[dfX['ood'] == 0]\n",
    "X.drop(['ood'], axis=1, inplace=True)\n",
    "\n",
    "y = dfy[dfy['ood'] == 0]\n",
    "y.drop(['ood'], axis=1, inplace=True)\n",
    "y = pd.get_dummies(y)"
   ]
  },
  {
   "cell_type": "code",
   "execution_count": null,
   "metadata": {
    "id": "JTwXFiPLAwj-"
   },
   "outputs": [],
   "source": [
    "X_train, X_test, y_train, y_test = train_test_split(X.values, y.values, test_size=0.2)\n",
    "\n",
    "X_ood = torch.FloatTensor(np.concatenate((X_test, df_ood.values), axis=0))\n",
    "y_ood = torch.FloatTensor([1 for j in range(len(X_test))] + [0 for i in range(len(df_ood))])\n",
    "\n",
    "X_train = torch.FloatTensor(X_train)\n",
    "X_test = torch.FloatTensor(X_test)\n",
    "y_train = torch.FloatTensor(y_train)\n",
    "y_test = torch.FloatTensor(y_test)"
   ]
  },
  {
   "cell_type": "code",
   "execution_count": null,
   "metadata": {
    "id": "MUw81jS6tSos"
   },
   "outputs": [],
   "source": [
    "# Oversampling using weights\n",
    "\n",
    "weightlist = [1 / y[col].sum() for col in y.columns]\n",
    "samp = WeightedRandomSampler(weights=[weightlist[cat.argmax()] for cat in y_train], num_samples=len(y_train), replacement=True)"
   ]
  },
  {
   "cell_type": "code",
   "execution_count": null,
   "metadata": {
    "id": "2DxdkjhcAV82"
   },
   "outputs": [],
   "source": [
    "# Create dataloaders for the dataset\n",
    "\n",
    "train = TensorDataset(X_train, y_train)\n",
    "train_loader = DataLoader(train, batch_size=512, sampler=samp)\n",
    "\n",
    "test = TensorDataset(X_test, y_test)\n",
    "test_loader = DataLoader(test, batch_size=512)\n",
    "\n",
    "ood = TensorDataset(X_ood, y_ood)\n",
    "ood_loader = DataLoader(ood, batch_size=512)"
   ]
  },
  {
   "cell_type": "code",
   "execution_count": null,
   "metadata": {
    "colab": {
     "base_uri": "https://localhost:8080/"
    },
    "id": "fmoYzVaaA9AI",
    "outputId": "35914189-12e0-4307-868e-1e79df15e7c1"
   },
   "outputs": [],
   "source": [
    "# Verify the distribution of attack classes in the training set are uniform\n",
    "\n",
    "from collections import defaultdict\n",
    "store = defaultdict(int)\n",
    "for x, y in train_loader:\n",
    "    for val in y:\n",
    "        store[int(val.argmax(0))] += 1\n",
    "    break\n",
    "for key in store:\n",
    "    print(key, store[key])"
   ]
  },
  {
   "cell_type": "code",
   "execution_count": null,
   "metadata": {
    "colab": {
     "base_uri": "https://localhost:8080/"
    },
    "id": "ltWDYmOz-ZLT",
    "outputId": "49fdf13b-64f3-4e0a-9739-b123625e57d1"
   },
   "outputs": [],
   "source": [
    "for x, y in train_loader:\n",
    "    print(x.shape)\n",
    "    break"
   ]
  },
  {
   "cell_type": "code",
   "execution_count": null,
   "metadata": {
    "colab": {
     "base_uri": "https://localhost:8080/"
    },
    "id": "qQs3bft9U1OY",
    "outputId": "78712232-a910-4667-cca5-4566fe432cce"
   },
   "outputs": [],
   "source": [
    "# Neural network architecture\n",
    "\n",
    "class ANN(nn.Module):\n",
    "    def __init__(self):\n",
    "        super().__init__()\n",
    "        self.fc1 = nn.Linear(in_features=190, out_features=256)\n",
    "        self.norm = nn.BatchNorm1d(256)\n",
    "        self.fc2 = nn.Linear(in_features=256, out_features=256)\n",
    "        self.norm2 = nn.BatchNorm1d(256)\n",
    "        self.output = nn.Linear(in_features=256, out_features=7)\n",
    "        #self.output2 = nn.Softmax(dim=1)\n",
    "\n",
    "    def forward(self, x):\n",
    "        x = F.relu(self.fc1(x))\n",
    "        x = self.norm(x)\n",
    "        x = F.relu(self.fc2(x))\n",
    "        x = self.norm2(x)\n",
    "        #x = self.norm4(x)\n",
    "        x = self.output(x)\n",
    "        #x = self.output2(x)\n",
    "        return x\n",
    "\n",
    "model = ANN()\n",
    "model"
   ]
  },
  {
   "cell_type": "code",
   "execution_count": null,
   "metadata": {
    "id": "tqdvASnRYWQg"
   },
   "outputs": [],
   "source": [
    "criterion = nn.CrossEntropyLoss()\n",
    "optimizer = torch.optim.Adam(model.parameters(), lr=0.0001)"
   ]
  },
  {
   "cell_type": "code",
   "execution_count": null,
   "metadata": {
    "colab": {
     "base_uri": "https://localhost:8080/",
     "height": 269
    },
    "id": "v4z7_zVV7NYO",
    "outputId": "2da258e1-607e-4723-bbce-13413afe2aad"
   },
   "outputs": [],
   "source": [
    "# Training phase\n",
    "\n",
    "epochs = 100\n",
    "lossarr = []\n",
    "size = len(test_loader.dataset)\n",
    "num_batches = len(test_loader)\n",
    "testloss = []\n",
    "for i in range(epochs):\n",
    "    model.train()\n",
    "    for batch, (x, y) in enumerate(train_loader):\n",
    "        y_hat = model.forward(x)\n",
    "        loss = criterion(y_hat, y)\n",
    "        optimizer.zero_grad()\n",
    "        loss.backward()\n",
    "        optimizer.step()\n",
    "    lossarr.append(loss.item())\n",
    "\n",
    "    model.eval()\n",
    "    test_loss, correct = 0, 0\n",
    "    preds = []\n",
    "    with torch.no_grad():\n",
    "        for X, y in test_loader:\n",
    "            pred = model(X)\n",
    "            preds.extend(pred)\n",
    "            test_loss += criterion(pred, y).item()\n",
    "            correct += (pred.argmax(1) == y.argmax(1)).type(torch.float).sum().item()\n",
    "    testloss.append(test_loss/num_batches)\n",
    "\n",
    "plt.plot(list(range(epochs)), lossarr, label=\"training loss\")\n",
    "plt.plot(list(range(epochs)), testloss, label=\"test loss\")\n",
    "plt.legend()\n",
    "plt.show()"
   ]
  },
  {
   "cell_type": "code",
   "execution_count": null,
   "metadata": {
    "colab": {
     "base_uri": "https://localhost:8080/"
    },
    "id": "j_KxArxTau8u",
    "outputId": "c970c673-db82-44da-ee7b-3ad2c7e5a2d1"
   },
   "outputs": [],
   "source": [
    "# Testing phase\n",
    "\n",
    "size = len(test_loader.dataset)\n",
    "num_batches = len(test_loader)\n",
    "model.eval()\n",
    "test_loss, correct = 0, 0\n",
    "preds = []\n",
    "with torch.no_grad():\n",
    "    for X, y in test_loader:\n",
    "        pred = model(X)\n",
    "        preds.extend(pred)\n",
    "        test_loss += criterion(pred, y).item()\n",
    "        correct += (pred.argmax(1) == y.argmax(1)).type(torch.float).sum().item()\n",
    "test_loss /= num_batches\n",
    "correct /= size\n",
    "print(f\"Test Error: \\n Accuracy: {(100*correct):>0.1f}%, Avg loss: {test_loss:>8f} \\n\")"
   ]
  },
  {
   "cell_type": "code",
   "execution_count": null,
   "metadata": {
    "colab": {
     "base_uri": "https://localhost:8080/"
    },
    "id": "Cuspch3SJ1hA",
    "outputId": "6eac33ca-6d84-4940-ff08-d80f3c77bafb"
   },
   "outputs": [],
   "source": [
    "from collections import defaultdict\n",
    "store = defaultdict(int)\n",
    "for x, y in test_loader:\n",
    "    for val in y:\n",
    "        store[int(val.argmax(0))] += 1\n",
    "for key in store:\n",
    "    print(key, store[key])"
   ]
  },
  {
   "cell_type": "code",
   "execution_count": null,
   "metadata": {
    "colab": {
     "base_uri": "https://localhost:8080/",
     "height": 767
    },
    "id": "CgKcswFFKxuK",
    "outputId": "c9eb9ac6-40f1-4f15-bc3a-7c0ce65cac75"
   },
   "outputs": [],
   "source": [
    "# Plot ROC curve\n",
    "\n",
    "plt.figure(figsize=(11,11))\n",
    "ax = plt.gca()\n",
    "sm = nn.Softmax(dim=0)\n",
    "for atk in range(6):\n",
    "    labels = [int(val[atk]) for X, y in test_loader for val in y]\n",
    "    probs = [float(sm(tensor)[atk]) for tensor in preds]\n",
    "    RocCurveDisplay.from_predictions(labels, probs, name=f\"Class: {atk}\",ax=ax)\n",
    "    print(f\"F1 score for Class {atk} :\", f1_score(labels, [int(int(tensor.argmax(0)) == atk) for tensor in preds]))\n",
    "plt.show()"
   ]
  },
  {
   "cell_type": "code",
   "execution_count": null,
   "metadata": {
    "colab": {
     "base_uri": "https://localhost:8080/",
     "height": 660
    },
    "id": "yEGoTthZYh7X",
    "outputId": "2e657938-ac94-4190-a0eb-58f96eff9ca3"
   },
   "outputs": [],
   "source": [
    "# ROC for OOD evaluation. Positive class is ID\n",
    "\n",
    "model.eval()\n",
    "preds = []\n",
    "sm = nn.Softmax(dim=0)\n",
    "labels = []\n",
    "with torch.no_grad():\n",
    "    for X, y in ood_loader:\n",
    "        pred = model(X)\n",
    "        preds.extend(pred)\n",
    "        labels.extend(y)\n",
    "\n",
    "plt.figure(2, figsize=(11,11))\n",
    "ax = plt.gca()\n",
    "msp = [float(max(sm(tensor))) for tensor in preds]\n",
    "RocCurveDisplay.from_predictions(labels, msp, ax=ax)\n",
    "plt.show(2)"
   ]
  },
  {
   "cell_type": "code",
   "execution_count": null,
   "metadata": {
    "colab": {
     "base_uri": "https://localhost:8080/",
     "height": 660
    },
    "id": "kJC2levMxdEf",
    "outputId": "b9985629-276f-413e-96d5-ae71963cb08b"
   },
   "outputs": [],
   "source": [
    "# ROC for OOD evaluation. Positive class is OOD\n",
    "\n",
    "model.eval()\n",
    "preds = []\n",
    "sm = nn.Softmax(dim=0)\n",
    "labels = []\n",
    "with torch.no_grad():\n",
    "    for X, y in ood_loader:\n",
    "        pred = model(X)\n",
    "        preds.extend(pred)\n",
    "        labels.extend(y)\n",
    "\n",
    "plt.figure(3, figsize=(11,11))\n",
    "ax = plt.gca()\n",
    "msp = [-float(max(sm(tensor))) for tensor in preds]\n",
    "RocCurveDisplay.from_predictions([0 if i == 1 else 1 for i in labels], msp, ax=ax)\n",
    "plt.show(3)"
   ]
  },
  {
   "cell_type": "code",
   "execution_count": null,
   "metadata": {
    "colab": {
     "base_uri": "https://localhost:8080/",
     "height": 660
    },
    "id": "R5npE0Td11vs",
    "outputId": "427bb173-6b6f-4008-fe71-89d25c44a63f"
   },
   "outputs": [],
   "source": [
    "# PR for OOD evaluation. Positive class is ID\n",
    "\n",
    "model.eval()\n",
    "preds = []\n",
    "sm = nn.Softmax(dim=0)\n",
    "labels = []\n",
    "with torch.no_grad():\n",
    "    for X, y in ood_loader:\n",
    "        pred = model(X)\n",
    "        preds.extend(pred)\n",
    "        labels.extend(y)\n",
    "\n",
    "plt.figure(4, figsize=(11,11))\n",
    "ax = plt.gca()\n",
    "msp = [float(max(sm(tensor))) for tensor in preds]\n",
    "PrecisionRecallDisplay.from_predictions(labels, msp, ax=ax)\n",
    "plt.show(4)"
   ]
  },
  {
   "cell_type": "code",
   "execution_count": null,
   "metadata": {
    "colab": {
     "base_uri": "https://localhost:8080/",
     "height": 660
    },
    "id": "yZcfNhLD2Vm3",
    "outputId": "f7b113bd-1c72-4696-9b43-2dce918e202a"
   },
   "outputs": [],
   "source": [
    "# PR for OOD evaluation. Positive class is OOD\n",
    "\n",
    "model.eval()\n",
    "preds = []\n",
    "sm = nn.Softmax(dim=0)\n",
    "labels = []\n",
    "with torch.no_grad():\n",
    "    for X, y in ood_loader:\n",
    "        pred = model(X)\n",
    "        preds.extend(pred)\n",
    "        labels.extend(y)\n",
    "\n",
    "plt.figure(3, figsize=(11,11))\n",
    "ax = plt.gca()\n",
    "msp = [-float(max(sm(tensor))) for tensor in preds]\n",
    "PrecisionRecallDisplay.from_predictions([0 if i == 1 else 1 for i in labels], msp, ax=ax)\n",
    "plt.show(3)"
   ]
  }
 ],
 "metadata": {
  "colab": {
   "provenance": []
  },
  "kernelspec": {
   "display_name": "Python 3 (ipykernel)",
   "language": "python",
   "name": "python3"
  },
  "language_info": {
   "codemirror_mode": {
    "name": "ipython",
    "version": 3
   },
   "file_extension": ".py",
   "mimetype": "text/x-python",
   "name": "python",
   "nbconvert_exporter": "python",
   "pygments_lexer": "ipython3",
   "version": "3.9.7"
  }
 },
 "nbformat": 4,
 "nbformat_minor": 1
}
